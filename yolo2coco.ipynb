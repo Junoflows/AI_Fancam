{
 "cells": [
  {
   "cell_type": "code",
   "execution_count": 32,
   "metadata": {},
   "outputs": [],
   "source": [
    "from pathlib import Path\n",
    "import json\n",
    "import imagesize\n",
    "from sklearn.model_selection import train_test_split\n",
    "import argparse\n",
    "\n",
    "def create_image_annotation(file_path: Path, image_id: int):\n",
    "    w, h = imagesize.get(str(file_path))\n",
    "    return {\n",
    "        \"file_name\": file_path.split('/')[-1],\n",
    "        \"height\": h,\n",
    "        \"width\": w,\n",
    "        \"id\": image_id,\n",
    "    }\n",
    "    \n",
    "def create_annotation_from_yolo_format(line, image_id, annotation_id, w, h):\n",
    "    parts = line.split()\n",
    "    class_id = int(parts[0])  # �대옒�� ID�� 泥� 踰덉㎏ �붿냼�낅땲��.\n",
    "    # parts[1]�� <name>�쇰줈, �ш린�쒕뒗 �ъ슜�섏� �딆뒿�덈떎.\n",
    "    x_center, y_center, width, height = map(float, parts[2:])  # <x_center>遺��� �쒖옉�섎뒗 �섎㉧吏� 遺�遺꾩쓣 float�쇰줈 蹂��섑빀�덈떎.\n",
    "    min_x = int(w * x_center - w * width / 2)\n",
    "    min_y = int(h * y_center - h * height / 2)\n",
    "    width = int(w * width)\n",
    "    height = int(h * height)\n",
    "    return {\n",
    "        \"id\": annotation_id,\n",
    "        \"image_id\": image_id,\n",
    "        \"bbox\": [min_x, min_y, width, height],\n",
    "        \"area\": width * height,\n",
    "        \"iscrowd\": 0,\n",
    "        \"category_id\": class_id + 1, # COCO �곗씠�곗뀑�� 1遺��� �쒖옉�⑸땲��.\n",
    "        \"segmentation\": [],\n",
    "    }"
   ]
  },
  {
   "cell_type": "code",
   "execution_count": 38,
   "metadata": {},
   "outputs": [],
   "source": [
    "def process_annotations(file_paths, txt_path):\n",
    "    annotations = []\n",
    "    images = []\n",
    "    image_id = annotation_id = 0\n",
    "    total_files = len(file_paths)\n",
    "    for idx, file_path in enumerate(file_paths):\n",
    "        print(f\"Processing {idx+1}/{total_files}...\", end='\\r')\n",
    "        images.append(create_image_annotation(file_path, image_id))\n",
    "        label_path = txt_path\n",
    "        with open(label_path, encoding='cp949') as f:\n",
    "            for line in f:\n",
    "                annotations.append(create_annotation_from_yolo_format(line, image_id, annotation_id, images[-1][\"width\"], images[-1][\"height\"]))\n",
    "                annotation_id += 1\n",
    "        image_id += 1\n",
    "\n",
    "    return {\"images\": images, \"annotations\": annotations, \"categories\": [{\"supercategory\": \"none\", \"id\": 1, \"name\": \"person\"}]}"
   ]
  },
  {
   "cell_type": "code",
   "execution_count": 39,
   "metadata": {},
   "outputs": [
    {
     "name": "stdout",
     "output_type": "stream",
     "text": [
      "Processing 1/1...\r"
     ]
    },
    {
     "data": {
      "text/plain": [
       "{'images': [{'file_name': '240308_5_6570.jpg',\n",
       "   'height': 1080,\n",
       "   'width': 2048,\n",
       "   'id': 0}],\n",
       " 'annotations': [{'id': 0,\n",
       "   'image_id': 0,\n",
       "   'bbox': [1222, 455, 325, 584],\n",
       "   'area': 189800,\n",
       "   'iscrowd': 0,\n",
       "   'category_id': 1,\n",
       "   'segmentation': []},\n",
       "  {'id': 1,\n",
       "   'image_id': 0,\n",
       "   'bbox': [460, 448, 328, 590],\n",
       "   'area': 193520,\n",
       "   'iscrowd': 0,\n",
       "   'category_id': 1,\n",
       "   'segmentation': []},\n",
       "  {'id': 2,\n",
       "   'image_id': 0,\n",
       "   'bbox': [501, 409, 345, 619],\n",
       "   'area': 213555,\n",
       "   'iscrowd': 0,\n",
       "   'category_id': 1,\n",
       "   'segmentation': []},\n",
       "  {'id': 3,\n",
       "   'image_id': 0,\n",
       "   'bbox': [857, 508, 286, 513],\n",
       "   'area': 146718,\n",
       "   'iscrowd': 0,\n",
       "   'category_id': 1,\n",
       "   'segmentation': []},\n",
       "  {'id': 4,\n",
       "   'image_id': 0,\n",
       "   'bbox': [1034, 521, 282, 507],\n",
       "   'area': 142974,\n",
       "   'iscrowd': 0,\n",
       "   'category_id': 1,\n",
       "   'segmentation': []},\n",
       "  {'id': 5,\n",
       "   'image_id': 0,\n",
       "   'bbox': [1367, 414, 342, 615],\n",
       "   'area': 210330,\n",
       "   'iscrowd': 0,\n",
       "   'category_id': 1,\n",
       "   'segmentation': []},\n",
       "  {'id': 6,\n",
       "   'image_id': 0,\n",
       "   'bbox': [994, 414, 338, 607],\n",
       "   'area': 205166,\n",
       "   'iscrowd': 0,\n",
       "   'category_id': 1,\n",
       "   'segmentation': []},\n",
       "  {'id': 7,\n",
       "   'image_id': 0,\n",
       "   'bbox': [901, 365, 380, 683],\n",
       "   'area': 259540,\n",
       "   'iscrowd': 0,\n",
       "   'category_id': 1,\n",
       "   'segmentation': []},\n",
       "  {'id': 8,\n",
       "   'image_id': 0,\n",
       "   'bbox': [763, 507, 285, 513],\n",
       "   'area': 146205,\n",
       "   'iscrowd': 0,\n",
       "   'category_id': 1,\n",
       "   'segmentation': []}],\n",
       " 'categories': [{'supercategory': 'none', 'id': 1, 'name': 'person'}]}"
      ]
     },
     "execution_count": 39,
     "metadata": {},
     "output_type": "execute_result"
    }
   ],
   "source": [
    "train_files = 'musicbank/240308_5_6570.jpg'\n",
    "txt_path = 'musicbank/240308_5_6570.txt'\n",
    "process_annotations([train_files], txt_path)"
   ]
  }
 ],
 "metadata": {
  "kernelspec": {
   "display_name": "junoflow",
   "language": "python",
   "name": "python3"
  },
  "language_info": {
   "codemirror_mode": {
    "name": "ipython",
    "version": 3
   },
   "file_extension": ".py",
   "mimetype": "text/x-python",
   "name": "python",
   "nbconvert_exporter": "python",
   "pygments_lexer": "ipython3",
   "version": "3.10.13"
  }
 },
 "nbformat": 4,
 "nbformat_minor": 2
}
